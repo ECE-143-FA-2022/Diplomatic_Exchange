{
 "cells": [
  {
   "cell_type": "code",
   "execution_count": 1,
   "metadata": {},
   "outputs": [],
   "source": [
    "from ipywidgets import interactive\n",
    "from collections import defaultdict\n",
    "import pandas as pd\n",
    "import os\n",
    "import sys\n",
    "sys.path = [os.path.abspath(\"..\")] + sys.path\n",
    "import itertools\n",
    "import matplotlib.pyplot as plt\n",
    "import numpy as np\n",
    "from ipywidgets import interact, interactive, widgets, Layout\n",
    "from mpl_chord_diagram import chord_diagram\n",
    "data = pd.read_csv('COW-country-codes.csv', sep=\",\")\n",
    "data = data.values.tolist()\n",
    "\n",
    "years=set()\n",
    "data1 = pd.read_csv('Diplomatic_Exchange_2006v1.csv', sep=\",\")\n",
    "data1 = data1.values.tolist()\n",
    "for idx in range(len(data1)):\n",
    "    years.add(int(data1[idx][2]))\n",
    "years=sorted(list(years))\n"
   ]
  },
  {
   "cell_type": "code",
   "execution_count": 2,
   "metadata": {},
   "outputs": [],
   "source": [
    "name=['United States of America',\n",
    "    'United Kingdom',\n",
    "    'France',\n",
    "    'Netherlands',\n",
    "    'Belgium',\n",
    "    'Luxembourg',\n",
    "    'Canada',\n",
    "    'Denmark',\n",
    "    'Norway',\n",
    "    'Iceland',\n",
    "    'Portugal',\n",
    "    'Italy'\n",
    "]\n",
    "nato=[2,200,220,210,211,212,20,390,385,395,235,325]\n",
    "name_to_code=defaultdict(int)\n",
    "all_name=[]\n",
    "all_coun_code=[]\n",
    "for idx in range(len(data)):\n",
    "    name_to_code[data[idx][2]]=data[idx][1]\n",
    "    if data[idx][0] not in all_coun_code:\n",
    "        all_coun_code.append(data[idx][1])\n",
    "    if data[idx][1] not in all_name:\n",
    "        all_name.append(data[idx][2])\n",
    "all_name=list(set(all_name))\n",
    "\n",
    "\n",
    "\n",
    "def sankey_new(year,coun_list):\n",
    "   \n",
    "    list1=list(coun_list)\n",
    "    coun_list=[name_to_code[n]for n in list1]\n",
    "    \n",
    "    countries=defaultdict(int)\n",
    "    coun_name=[]\n",
    "    for i in range(len(coun_list)):\n",
    "        for idx in range(len(data)):\n",
    "        \n",
    "            if data[idx][1] ==coun_list[i]:\n",
    "                coun_name.append(data[idx][0])\n",
    "                break\n",
    "\n",
    "\n",
    "    data1 = pd.read_csv('Diplomatic_Exchange_2006v1.csv', sep=\",\")\n",
    "    data1 = data1.values.tolist()\n",
    "\n",
    "    exchange_in_year=defaultdict(int)\n",
    "    for idx in range(len(data1)):\n",
    "        if (int(data1[idx][0]),int(data1[idx][1]))in itertools.permutations(coun_list,2):\n",
    "            if int(data1[idx][2])>=int(year) and int(data1[idx][2])<int(year)+10:\n",
    "                exchange_in_year[(data1[idx][0],data1[idx][1])]+=data1[idx][4]\n",
    "\n",
    "\n",
    "    exchange=np.zeros((len(coun_list),len(coun_list)))\n",
    "    for i in range(len(coun_list)):\n",
    "        \n",
    "        for j in range(len(coun_list)):\n",
    "            \n",
    "            exchange[i][j]=exchange_in_year[(coun_list[i],coun_list[j])]\n",
    "    Num=len(coun_list)\n",
    "    N1=Num\n",
    "    f=10-int(Num/10)\n",
    "    chord_diagram(exchange, coun_name,fontsize=f)        "
   ]
  },
  {
   "cell_type": "code",
   "execution_count": 3,
   "metadata": {},
   "outputs": [
    {
     "data": {
      "application/vnd.jupyter.widget-view+json": {
       "model_id": "0bce8e4227f644378d0e780d5db23b7e",
       "version_major": 2,
       "version_minor": 0
      },
      "text/plain": [
       "interactive(children=(IntSlider(value=1920, description='year', max=2000, min=1920, step=10), SelectMultiple(d…"
      ]
     },
     "metadata": {},
     "output_type": "display_data"
    }
   ],
   "source": [
    "myy = interactive(sankey_new,\n",
    "    year = widgets.IntSlider(min = 1920, max = 2000, step = 10, value = 1920),\n",
    "    \n",
    "    coun_list= widgets.SelectMultiple(\n",
    "        options=all_name,\n",
    "        value=[ 'United States of America',\n",
    "                'United Kingdom',\n",
    "                'France',\n",
    "                'Netherlands',\n",
    "                'Belgium',\n",
    "                'Luxembourg',\n",
    "                'Canada',\n",
    "                'Denmark',\n",
    "                'Norway',\n",
    "                'Iceland',\n",
    "                'Portugal',\n",
    "                'Italy'\n",
    "            ],\n",
    "        description='countries',\n",
    "        disabled=False\n",
    "    )\n",
    "\n",
    "    )\n",
    "myy"
   ]
  }
 ],
 "metadata": {
  "kernelspec": {
   "display_name": "Python 3.8.12 64-bit ('code': conda)",
   "language": "python",
   "name": "python3"
  },
  "language_info": {
   "codemirror_mode": {
    "name": "ipython",
    "version": 3
   },
   "file_extension": ".py",
   "mimetype": "text/x-python",
   "name": "python",
   "nbconvert_exporter": "python",
   "pygments_lexer": "ipython3",
   "version": "3.8.12"
  },
  "orig_nbformat": 4,
  "vscode": {
   "interpreter": {
    "hash": "d4bb2806f30f659a87d8b5fd77c447d05ea3a1cbed247d69385300f4d5e08301"
   }
  }
 },
 "nbformat": 4,
 "nbformat_minor": 2
}
